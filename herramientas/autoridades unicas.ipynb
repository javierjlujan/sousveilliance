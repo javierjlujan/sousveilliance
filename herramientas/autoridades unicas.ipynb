{
 "cells": [
  {
   "cell_type": "code",
   "execution_count": 1,
   "metadata": {
    "collapsed": true
   },
   "outputs": [],
   "source": [
    "import pandas as pd"
   ]
  },
  {
   "cell_type": "code",
   "execution_count": 2,
   "metadata": {
    "collapsed": false
   },
   "outputs": [
    {
     "data": {
      "text/html": [
       "<div>\n",
       "<table border=\"1\" class=\"dataframe\">\n",
       "  <thead>\n",
       "    <tr style=\"text-align: right;\">\n",
       "      <th></th>\n",
       "      <th>numero_correlativo</th>\n",
       "      <th>apellido_nombre</th>\n",
       "      <th>tipo_administrador</th>\n",
       "      <th>descripcion_tipo_administrador</th>\n",
       "      <th>tipo_documento</th>\n",
       "      <th>descripcion_tipo_documento</th>\n",
       "      <th>numero_documento</th>\n",
       "    </tr>\n",
       "  </thead>\n",
       "  <tbody>\n",
       "    <tr>\n",
       "      <th>0</th>\n",
       "      <td>44</td>\n",
       "      <td>ALDAZABAL, PABLO MANUEL</td>\n",
       "      <td>A</td>\n",
       "      <td>AUTORIDAD</td>\n",
       "      <td>1</td>\n",
       "      <td>DOCUMENTO NACIONAL DE IDENTIDAD</td>\n",
       "      <td>10134086</td>\n",
       "    </tr>\n",
       "    <tr>\n",
       "      <th>1</th>\n",
       "      <td>60</td>\n",
       "      <td>ALVAREZ, HORACIO RAUL</td>\n",
       "      <td>S</td>\n",
       "      <td>SOCIO</td>\n",
       "      <td>1</td>\n",
       "      <td>DOCUMENTO NACIONAL DE IDENTIDAD</td>\n",
       "      <td>10260149</td>\n",
       "    </tr>\n",
       "    <tr>\n",
       "      <th>2</th>\n",
       "      <td>60</td>\n",
       "      <td>ALVAREZ, LUIS ENRIQUE</td>\n",
       "      <td>S</td>\n",
       "      <td>SOCIO</td>\n",
       "      <td>1</td>\n",
       "      <td>DOCUMENTO NACIONAL DE IDENTIDAD</td>\n",
       "      <td>11499344</td>\n",
       "    </tr>\n",
       "    <tr>\n",
       "      <th>3</th>\n",
       "      <td>60</td>\n",
       "      <td>ALVAREZ HORACIO RAUL</td>\n",
       "      <td>A</td>\n",
       "      <td>AUTORIDAD</td>\n",
       "      <td>1</td>\n",
       "      <td>DOCUMENTO NACIONAL DE IDENTIDAD</td>\n",
       "      <td>10260149</td>\n",
       "    </tr>\n",
       "    <tr>\n",
       "      <th>4</th>\n",
       "      <td>60</td>\n",
       "      <td>ALVAREZ LUIS ENRIQUE</td>\n",
       "      <td>A</td>\n",
       "      <td>AUTORIDAD</td>\n",
       "      <td>1</td>\n",
       "      <td>DOCUMENTO NACIONAL DE IDENTIDAD</td>\n",
       "      <td>11499344</td>\n",
       "    </tr>\n",
       "  </tbody>\n",
       "</table>\n",
       "</div>"
      ],
      "text/plain": [
       "   numero_correlativo          apellido_nombre tipo_administrador  \\\n",
       "0                  44  ALDAZABAL, PABLO MANUEL                  A   \n",
       "1                  60    ALVAREZ, HORACIO RAUL                  S   \n",
       "2                  60    ALVAREZ, LUIS ENRIQUE                  S   \n",
       "3                  60     ALVAREZ HORACIO RAUL                  A   \n",
       "4                  60     ALVAREZ LUIS ENRIQUE                  A   \n",
       "\n",
       "  descripcion_tipo_administrador  tipo_documento  \\\n",
       "0                      AUTORIDAD               1   \n",
       "1                          SOCIO               1   \n",
       "2                          SOCIO               1   \n",
       "3                      AUTORIDAD               1   \n",
       "4                      AUTORIDAD               1   \n",
       "\n",
       "        descripcion_tipo_documento numero_documento  \n",
       "0  DOCUMENTO NACIONAL DE IDENTIDAD         10134086  \n",
       "1  DOCUMENTO NACIONAL DE IDENTIDAD         10260149  \n",
       "2  DOCUMENTO NACIONAL DE IDENTIDAD         11499344  \n",
       "3  DOCUMENTO NACIONAL DE IDENTIDAD         10260149  \n",
       "4  DOCUMENTO NACIONAL DE IDENTIDAD         11499344  "
      ]
     },
     "execution_count": 2,
     "metadata": {},
     "output_type": "execute_result"
    }
   ],
   "source": [
    "df = pd.read_csv('/home/faras/Descargas/neo4j-community-3.2.1/import/igj-autoridades_29-06-17.csv')\n",
    "\n",
    "def remove_spaces(ele):\n",
    "    return ''.join(ele.split())\n",
    "\n",
    "df['numero_documento'] = df['numero_documento'].astype(str)\n",
    "df['numero_documento'] = df['numero_documento'].apply(remove_spaces)\n",
    "df.head()"
   ]
  },
  {
   "cell_type": "code",
   "execution_count": 47,
   "metadata": {
    "collapsed": false
   },
   "outputs": [
    {
     "data": {
      "text/plain": [
       "(627615, 7)"
      ]
     },
     "execution_count": 47,
     "metadata": {},
     "output_type": "execute_result"
    }
   ],
   "source": [
    "df_unico = df.drop_duplicates(subset='numero_documento', keep='last')\n",
    "df_unico.shape"
   ]
  },
  {
   "cell_type": "code",
   "execution_count": 48,
   "metadata": {
    "collapsed": false
   },
   "outputs": [],
   "source": [
    "df_unico.to_csv('/home/faras/Descargas/neo4j-community-3.2.1/import/igj-autoridades_unicos.csv', index=False, header=False)"
   ]
  },
  {
   "cell_type": "code",
   "execution_count": null,
   "metadata": {
    "collapsed": true
   },
   "outputs": [],
   "source": []
  },
  {
   "cell_type": "code",
   "execution_count": 19,
   "metadata": {
    "collapsed": false
   },
   "outputs": [
    {
     "data": {
      "text/html": [
       "<div>\n",
       "<table border=\"1\" class=\"dataframe\">\n",
       "  <thead>\n",
       "    <tr style=\"text-align: right;\">\n",
       "      <th></th>\n",
       "      <th>numero_correlativo</th>\n",
       "      <th>apellido_nombre</th>\n",
       "      <th>tipo_administrador</th>\n",
       "      <th>descripcion_tipo_administrador</th>\n",
       "      <th>tipo_documento</th>\n",
       "      <th>descripcion_tipo_documento</th>\n",
       "      <th>numero_documento</th>\n",
       "    </tr>\n",
       "  </thead>\n",
       "  <tbody>\n",
       "    <tr>\n",
       "      <th>0</th>\n",
       "      <td>44</td>\n",
       "      <td>ALDAZABAL, PABLO MANUEL</td>\n",
       "      <td>A</td>\n",
       "      <td>AUTORIDAD</td>\n",
       "      <td>1</td>\n",
       "      <td>DOCUMENTO NACIONAL DE IDENTIDAD</td>\n",
       "      <td>10134086</td>\n",
       "    </tr>\n",
       "    <tr>\n",
       "      <th>1</th>\n",
       "      <td>60</td>\n",
       "      <td>ALVAREZ, HORACIO RAUL</td>\n",
       "      <td>S</td>\n",
       "      <td>SOCIO</td>\n",
       "      <td>1</td>\n",
       "      <td>DOCUMENTO NACIONAL DE IDENTIDAD</td>\n",
       "      <td>10260149</td>\n",
       "    </tr>\n",
       "    <tr>\n",
       "      <th>2</th>\n",
       "      <td>60</td>\n",
       "      <td>ALVAREZ, LUIS ENRIQUE</td>\n",
       "      <td>S</td>\n",
       "      <td>SOCIO</td>\n",
       "      <td>1</td>\n",
       "      <td>DOCUMENTO NACIONAL DE IDENTIDAD</td>\n",
       "      <td>11499344</td>\n",
       "    </tr>\n",
       "    <tr>\n",
       "      <th>3</th>\n",
       "      <td>60</td>\n",
       "      <td>ALVAREZ HORACIO RAUL</td>\n",
       "      <td>A</td>\n",
       "      <td>AUTORIDAD</td>\n",
       "      <td>1</td>\n",
       "      <td>DOCUMENTO NACIONAL DE IDENTIDAD</td>\n",
       "      <td>10260149</td>\n",
       "    </tr>\n",
       "    <tr>\n",
       "      <th>4</th>\n",
       "      <td>60</td>\n",
       "      <td>ALVAREZ LUIS ENRIQUE</td>\n",
       "      <td>A</td>\n",
       "      <td>AUTORIDAD</td>\n",
       "      <td>1</td>\n",
       "      <td>DOCUMENTO NACIONAL DE IDENTIDAD</td>\n",
       "      <td>11499344</td>\n",
       "    </tr>\n",
       "  </tbody>\n",
       "</table>\n",
       "</div>"
      ],
      "text/plain": [
       "  numero_correlativo          apellido_nombre tipo_administrador  \\\n",
       "0                 44  ALDAZABAL, PABLO MANUEL                  A   \n",
       "1                 60    ALVAREZ, HORACIO RAUL                  S   \n",
       "2                 60    ALVAREZ, LUIS ENRIQUE                  S   \n",
       "3                 60     ALVAREZ HORACIO RAUL                  A   \n",
       "4                 60     ALVAREZ LUIS ENRIQUE                  A   \n",
       "\n",
       "  descripcion_tipo_administrador  tipo_documento  \\\n",
       "0                      AUTORIDAD               1   \n",
       "1                          SOCIO               1   \n",
       "2                          SOCIO               1   \n",
       "3                      AUTORIDAD               1   \n",
       "4                      AUTORIDAD               1   \n",
       "\n",
       "        descripcion_tipo_documento numero_documento  \n",
       "0  DOCUMENTO NACIONAL DE IDENTIDAD         10134086  \n",
       "1  DOCUMENTO NACIONAL DE IDENTIDAD         10260149  \n",
       "2  DOCUMENTO NACIONAL DE IDENTIDAD         11499344  \n",
       "3  DOCUMENTO NACIONAL DE IDENTIDAD         10260149  \n",
       "4  DOCUMENTO NACIONAL DE IDENTIDAD         11499344  "
      ]
     },
     "execution_count": 19,
     "metadata": {},
     "output_type": "execute_result"
    }
   ],
   "source": [
    "df_limpio = pd.read_csv('/home/faras/Descargas/neo4j-community-3.2.1/import/igj-autoridades_29-06-17.csv')\n",
    "\n",
    "def remove_spaces(ele):\n",
    "    ele = ele.replace('.', '')\n",
    "    return ''.join(ele.split())\n",
    "\n",
    "df_limpio['numero_documento'] = df_limpio['numero_documento'].astype(str)\n",
    "df_limpio['numero_documento'] = df_limpio['numero_documento'].apply(remove_spaces)\n",
    "\n",
    "df_limpio['numero_correlativo'] = df_limpio['numero_correlativo'].astype(str)\n",
    "df_limpio['numero_correlativo'] = df_limpio['numero_correlativo'].apply(remove_spaces)\n",
    "\n",
    "df_limpio['tipo_administrador'] = df_limpio['tipo_administrador'].astype(str)\n",
    "df_limpio['tipo_administrador'] = df_limpio['tipo_administrador'].apply(remove_spaces)\n",
    "\n",
    "df_limpio.head()"
   ]
  },
  {
   "cell_type": "code",
   "execution_count": 11,
   "metadata": {
    "collapsed": false
   },
   "outputs": [
    {
     "data": {
      "text/html": [
       "<div>\n",
       "<table border=\"1\" class=\"dataframe\">\n",
       "  <thead>\n",
       "    <tr style=\"text-align: right;\">\n",
       "      <th></th>\n",
       "      <th>numero_correlativo</th>\n",
       "      <th>apellido_nombre</th>\n",
       "      <th>tipo_administrador</th>\n",
       "      <th>descripcion_tipo_administrador</th>\n",
       "      <th>tipo_documento</th>\n",
       "      <th>descripcion_tipo_documento</th>\n",
       "      <th>numero_documento</th>\n",
       "    </tr>\n",
       "  </thead>\n",
       "  <tbody>\n",
       "  </tbody>\n",
       "</table>\n",
       "</div>"
      ],
      "text/plain": [
       "Empty DataFrame\n",
       "Columns: [numero_correlativo, apellido_nombre, tipo_administrador, descripcion_tipo_administrador, tipo_documento, descripcion_tipo_documento, numero_documento]\n",
       "Index: []"
      ]
     },
     "execution_count": 11,
     "metadata": {},
     "output_type": "execute_result"
    }
   ],
   "source": [
    "#df_limpio[df_limpio['numero_correlativo'] == 'nan']"
   ]
  },
  {
   "cell_type": "code",
   "execution_count": 23,
   "metadata": {
    "collapsed": false
   },
   "outputs": [
    {
     "data": {
      "text/html": [
       "<div>\n",
       "<table border=\"1\" class=\"dataframe\">\n",
       "  <thead>\n",
       "    <tr style=\"text-align: right;\">\n",
       "      <th></th>\n",
       "      <th>numero_correlativo</th>\n",
       "      <th>apellido_nombre</th>\n",
       "      <th>tipo_administrador</th>\n",
       "      <th>descripcion_tipo_administrador</th>\n",
       "      <th>tipo_documento</th>\n",
       "      <th>descripcion_tipo_documento</th>\n",
       "      <th>numero_documento</th>\n",
       "    </tr>\n",
       "  </thead>\n",
       "  <tbody>\n",
       "    <tr>\n",
       "      <th>17370</th>\n",
       "      <td>162004</td>\n",
       "      <td>Priscila, Troian Mello</td>\n",
       "      <td>nan</td>\n",
       "      <td>NaN</td>\n",
       "      <td>5</td>\n",
       "      <td>PASAPORTE</td>\n",
       "      <td>FG255649</td>\n",
       "    </tr>\n",
       "  </tbody>\n",
       "</table>\n",
       "</div>"
      ],
      "text/plain": [
       "      numero_correlativo         apellido_nombre tipo_administrador  \\\n",
       "17370             162004  Priscila, Troian Mello                nan   \n",
       "\n",
       "      descripcion_tipo_administrador  tipo_documento  \\\n",
       "17370                            NaN               5   \n",
       "\n",
       "      descripcion_tipo_documento numero_documento  \n",
       "17370                  PASAPORTE         FG255649  "
      ]
     },
     "execution_count": 23,
     "metadata": {},
     "output_type": "execute_result"
    }
   ],
   "source": [
    "df_limpio[df_limpio['numero_documento'] == 'FG255649']"
   ]
  },
  {
   "cell_type": "code",
   "execution_count": 24,
   "metadata": {
    "collapsed": true
   },
   "outputs": [],
   "source": [
    "df_limpio.to_csv('/home/faras/Descargas/neo4j-community-3.2.1/import/igj-autoridades_limpio.csv', index=False, header=False)"
   ]
  }
 ],
 "metadata": {
  "kernelspec": {
   "display_name": "Python 2",
   "language": "python",
   "name": "python2"
  },
  "language_info": {
   "codemirror_mode": {
    "name": "ipython",
    "version": 2
   },
   "file_extension": ".py",
   "mimetype": "text/x-python",
   "name": "python",
   "nbconvert_exporter": "python",
   "pygments_lexer": "ipython2",
   "version": "2.7.12"
  }
 },
 "nbformat": 4,
 "nbformat_minor": 2
}
