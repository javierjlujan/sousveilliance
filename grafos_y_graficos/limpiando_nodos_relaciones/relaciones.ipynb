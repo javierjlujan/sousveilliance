{
 "cells": [
  {
   "cell_type": "code",
   "execution_count": 1,
   "metadata": {
    "collapsed": true
   },
   "outputs": [],
   "source": [
    "import pandas as pd"
   ]
  },
  {
   "cell_type": "code",
   "execution_count": 6,
   "metadata": {},
   "outputs": [
    {
     "data": {
      "text/html": [
       "<div>\n",
       "<style>\n",
       "    .dataframe thead tr:only-child th {\n",
       "        text-align: right;\n",
       "    }\n",
       "\n",
       "    .dataframe thead th {\n",
       "        text-align: left;\n",
       "    }\n",
       "\n",
       "    .dataframe tbody tr th {\n",
       "        vertical-align: top;\n",
       "    }\n",
       "</style>\n",
       "<table border=\"1\" class=\"dataframe\">\n",
       "  <thead>\n",
       "    <tr style=\"text-align: right;\">\n",
       "      <th></th>\n",
       "      <th>numero_correlativo</th>\n",
       "      <th>apellido_nombre</th>\n",
       "      <th>tipo_administrador</th>\n",
       "      <th>descripcion_tipo_administrador</th>\n",
       "      <th>tipo_documento</th>\n",
       "      <th>descripcion_tipo_documento</th>\n",
       "      <th>numero_documento</th>\n",
       "    </tr>\n",
       "  </thead>\n",
       "  <tbody>\n",
       "    <tr>\n",
       "      <th>0</th>\n",
       "      <td>44</td>\n",
       "      <td>ALDAZABAL, PABLO MANUEL</td>\n",
       "      <td>A</td>\n",
       "      <td>AUTORIDAD</td>\n",
       "      <td>1</td>\n",
       "      <td>DOCUMENTO NACIONAL DE IDENTIDAD</td>\n",
       "      <td>10134086</td>\n",
       "    </tr>\n",
       "    <tr>\n",
       "      <th>1</th>\n",
       "      <td>60</td>\n",
       "      <td>ALVAREZ, HORACIO RAUL</td>\n",
       "      <td>S</td>\n",
       "      <td>SOCIO</td>\n",
       "      <td>1</td>\n",
       "      <td>DOCUMENTO NACIONAL DE IDENTIDAD</td>\n",
       "      <td>10260149</td>\n",
       "    </tr>\n",
       "    <tr>\n",
       "      <th>2</th>\n",
       "      <td>60</td>\n",
       "      <td>ALVAREZ, LUIS ENRIQUE</td>\n",
       "      <td>S</td>\n",
       "      <td>SOCIO</td>\n",
       "      <td>1</td>\n",
       "      <td>DOCUMENTO NACIONAL DE IDENTIDAD</td>\n",
       "      <td>11499344</td>\n",
       "    </tr>\n",
       "    <tr>\n",
       "      <th>3</th>\n",
       "      <td>60</td>\n",
       "      <td>ALVAREZ HORACIO RAUL</td>\n",
       "      <td>A</td>\n",
       "      <td>AUTORIDAD</td>\n",
       "      <td>1</td>\n",
       "      <td>DOCUMENTO NACIONAL DE IDENTIDAD</td>\n",
       "      <td>10260149</td>\n",
       "    </tr>\n",
       "    <tr>\n",
       "      <th>4</th>\n",
       "      <td>60</td>\n",
       "      <td>ALVAREZ LUIS ENRIQUE</td>\n",
       "      <td>A</td>\n",
       "      <td>AUTORIDAD</td>\n",
       "      <td>1</td>\n",
       "      <td>DOCUMENTO NACIONAL DE IDENTIDAD</td>\n",
       "      <td>11499344</td>\n",
       "    </tr>\n",
       "  </tbody>\n",
       "</table>\n",
       "</div>"
      ],
      "text/plain": [
       "   numero_correlativo          apellido_nombre tipo_administrador  \\\n",
       "0                  44  ALDAZABAL, PABLO MANUEL                  A   \n",
       "1                  60    ALVAREZ, HORACIO RAUL                  S   \n",
       "2                  60    ALVAREZ, LUIS ENRIQUE                  S   \n",
       "3                  60     ALVAREZ HORACIO RAUL                  A   \n",
       "4                  60     ALVAREZ LUIS ENRIQUE                  A   \n",
       "\n",
       "  descripcion_tipo_administrador  tipo_documento  \\\n",
       "0                      AUTORIDAD               1   \n",
       "1                          SOCIO               1   \n",
       "2                          SOCIO               1   \n",
       "3                      AUTORIDAD               1   \n",
       "4                      AUTORIDAD               1   \n",
       "\n",
       "        descripcion_tipo_documento numero_documento  \n",
       "0  DOCUMENTO NACIONAL DE IDENTIDAD         10134086  \n",
       "1  DOCUMENTO NACIONAL DE IDENTIDAD         10260149  \n",
       "2  DOCUMENTO NACIONAL DE IDENTIDAD         11499344  \n",
       "3  DOCUMENTO NACIONAL DE IDENTIDAD         10260149  \n",
       "4  DOCUMENTO NACIONAL DE IDENTIDAD         11499344  "
      ]
     },
     "execution_count": 6,
     "metadata": {},
     "output_type": "execute_result"
    }
   ],
   "source": [
    "df_autoridades = pd.read_csv('../datos/igj-autoridades.csv')\n",
    "\n",
    "def remove_spaces(ele):\n",
    "    ele = ele.replace('.', '')\n",
    "    return ''.join(ele.split())\n",
    "\n",
    "df_autoridades['numero_documento'] = df_autoridades['numero_documento'].astype(str)\n",
    "df_autoridades['numero_documento'] = df_autoridades['numero_documento'].apply(remove_spaces)\n",
    "\n",
    "df_autoridades['descripcion_tipo_administrador'] = df_autoridades['descripcion_tipo_administrador'].astype(str)\n",
    "df_autoridades['descripcion_tipo_administrador'] = df_autoridades['descripcion_tipo_administrador'].apply(remove_spaces)\n",
    "\n",
    "df_autoridades.head()"
   ]
  },
  {
   "cell_type": "code",
   "execution_count": 7,
   "metadata": {},
   "outputs": [
    {
     "data": {
      "text/html": [
       "<div>\n",
       "<style>\n",
       "    .dataframe thead tr:only-child th {\n",
       "        text-align: right;\n",
       "    }\n",
       "\n",
       "    .dataframe thead th {\n",
       "        text-align: left;\n",
       "    }\n",
       "\n",
       "    .dataframe tbody tr th {\n",
       "        vertical-align: top;\n",
       "    }\n",
       "</style>\n",
       "<table border=\"1\" class=\"dataframe\">\n",
       "  <thead>\n",
       "    <tr style=\"text-align: right;\">\n",
       "      <th></th>\n",
       "      <th>numero_correlativo</th>\n",
       "      <th>dni</th>\n",
       "      <th>descripcion_tipo_administrador</th>\n",
       "    </tr>\n",
       "  </thead>\n",
       "  <tbody>\n",
       "    <tr>\n",
       "      <th>0</th>\n",
       "      <td>44</td>\n",
       "      <td>10134086</td>\n",
       "      <td>AUTORIDAD</td>\n",
       "    </tr>\n",
       "    <tr>\n",
       "      <th>1</th>\n",
       "      <td>60</td>\n",
       "      <td>10260149</td>\n",
       "      <td>SOCIO</td>\n",
       "    </tr>\n",
       "    <tr>\n",
       "      <th>2</th>\n",
       "      <td>60</td>\n",
       "      <td>11499344</td>\n",
       "      <td>SOCIO</td>\n",
       "    </tr>\n",
       "    <tr>\n",
       "      <th>3</th>\n",
       "      <td>60</td>\n",
       "      <td>10260149</td>\n",
       "      <td>AUTORIDAD</td>\n",
       "    </tr>\n",
       "    <tr>\n",
       "      <th>4</th>\n",
       "      <td>60</td>\n",
       "      <td>11499344</td>\n",
       "      <td>AUTORIDAD</td>\n",
       "    </tr>\n",
       "  </tbody>\n",
       "</table>\n",
       "</div>"
      ],
      "text/plain": [
       "   numero_correlativo       dni descripcion_tipo_administrador\n",
       "0                  44  10134086                      AUTORIDAD\n",
       "1                  60  10260149                          SOCIO\n",
       "2                  60  11499344                          SOCIO\n",
       "3                  60  10260149                      AUTORIDAD\n",
       "4                  60  11499344                      AUTORIDAD"
      ]
     },
     "execution_count": 7,
     "metadata": {},
     "output_type": "execute_result"
    }
   ],
   "source": [
    "df_relacion = pd.DataFrame()\n",
    "df_relacion['numero_correlativo'] = df_autoridades['numero_correlativo']\n",
    "df_relacion['dni'] = df_autoridades['numero_documento']\n",
    "df_relacion['descripcion_tipo_administrador'] = df_autoridades['descripcion_tipo_administrador']\n",
    "\n",
    "df_relacion.head()"
   ]
  },
  {
   "cell_type": "code",
   "execution_count": 8,
   "metadata": {},
   "outputs": [
    {
     "data": {
      "text/html": [
       "<div>\n",
       "<style>\n",
       "    .dataframe thead tr:only-child th {\n",
       "        text-align: right;\n",
       "    }\n",
       "\n",
       "    .dataframe thead th {\n",
       "        text-align: left;\n",
       "    }\n",
       "\n",
       "    .dataframe tbody tr th {\n",
       "        vertical-align: top;\n",
       "    }\n",
       "</style>\n",
       "<table border=\"1\" class=\"dataframe\">\n",
       "  <thead>\n",
       "    <tr style=\"text-align: right;\">\n",
       "      <th></th>\n",
       "      <th>numero_correlativo</th>\n",
       "      <th>dni</th>\n",
       "      <th>descripcion_tipo_administrador</th>\n",
       "    </tr>\n",
       "  </thead>\n",
       "  <tbody>\n",
       "  </tbody>\n",
       "</table>\n",
       "</div>"
      ],
      "text/plain": [
       "Empty DataFrame\n",
       "Columns: [numero_correlativo, dni, descripcion_tipo_administrador]\n",
       "Index: []"
      ]
     },
     "execution_count": 8,
     "metadata": {},
     "output_type": "execute_result"
    }
   ],
   "source": [
    "df_relacion['descripcion_tipo_administrador'] df_relacion['descripcion_tipo_administrador'].fillna(False)"
   ]
  },
  {
   "cell_type": "code",
   "execution_count": 4,
   "metadata": {},
   "outputs": [],
   "source": [
    "df_relacion.to_csv('../datos/relaciones.csv', index=False)"
   ]
  },
  {
   "cell_type": "code",
   "execution_count": null,
   "metadata": {
    "collapsed": true
   },
   "outputs": [],
   "source": []
  }
 ],
 "metadata": {
  "kernelspec": {
   "display_name": "Python [conda root]",
   "language": "python",
   "name": "conda-root-py"
  },
  "language_info": {
   "codemirror_mode": {
    "name": "ipython",
    "version": 3
   },
   "file_extension": ".py",
   "mimetype": "text/x-python",
   "name": "python",
   "nbconvert_exporter": "python",
   "pygments_lexer": "ipython3",
   "version": "3.5.3"
  }
 },
 "nbformat": 4,
 "nbformat_minor": 2
}
